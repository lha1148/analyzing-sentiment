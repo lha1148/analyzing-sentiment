{
  "cells": [
    {
      "cell_type": "code",
      "source": [
        "!pip install emoji"
      ],
      "metadata": {
        "colab": {
          "base_uri": "https://localhost:8080/"
        },
        "id": "63IsEuTCh2E_",
        "outputId": "f26a7092-8eb3-4777-cd00-eebe09c4b88c"
      },
      "id": "63IsEuTCh2E_",
      "execution_count": null,
      "outputs": [
        {
          "output_type": "stream",
          "name": "stdout",
          "text": [
            "Requirement already satisfied: emoji in /usr/local/lib/python3.11/dist-packages (2.14.1)\n"
          ]
        }
      ]
    },
    {
      "cell_type": "code",
      "source": [
        "import re\n",
        "import emoji\n",
        "\n",
        "teencode_dict = {\n",
        "    \"hok\": \"không\",\n",
        "    \"k\": \"không\",\n",
        "    \"ko\": \"không\",\n",
        "    \"dc\": \"được\",\n",
        "    \"vl\": \"vãi\",\n",
        "    \"thik\": \"thích\",\n",
        "    \"bt\": \"bình thường\",\n",
        "    \"j\": \"gì\",\n",
        "    \"mik\": \"mình\",\n",
        "    \"bn\": \"bạn\",\n",
        "    \"vs\": \"với\",\n",
        "    \"<3\": \"yêu\"\n",
        "}\n",
        "\n",
        "def replace_teencode(text):\n",
        "    text = text.lower()\n",
        "    for teencode, replacement in teencode_dict.items():\n",
        "        text = re.sub(r'\\b' + re.escape(teencode) + r'\\b', replacement, text)\n",
        "    return text\n",
        "\n",
        "def clean_text(text):\n",
        "    text = emoji.replace_emoji(text, replace='')  # loại bỏ emoji\n",
        "    text = replace_teencode(text)\n",
        "    text = re.sub(r\"…\", \"\", text)\n",
        "    text = re.sub(r\"[^\\w\\s,.?!\\-]\", \"\", text)\n",
        "    text = re.sub(r\"http\\S+|www\\S+|https\\S+\", \"\", text, flags=re.MULTILINE)\n",
        "    text = re.sub(r\"\\s+\", \" \", text).strip()\n",
        "    text = text.lower()\n",
        "    return text\n",
        "\n",
        "# Test\n",
        "text = \"Ko bt mik thik cái này vl <3 😂 :))) www.google.com\"\n",
        "print(clean_text(text))\n"
      ],
      "metadata": {
        "colab": {
          "base_uri": "https://localhost:8080/"
        },
        "id": "2syJEQK0hwI9",
        "outputId": "bbe50898-657b-4518-a80c-3a4e2a7e7ec0"
      },
      "id": "2syJEQK0hwI9",
      "execution_count": null,
      "outputs": [
        {
          "output_type": "stream",
          "name": "stdout",
          "text": [
            "không bình thường mình thích cái này vãi 3\n"
          ]
        }
      ]
    },
    {
      "metadata": {
        "ExecuteTime": {
          "end_time": "2024-12-08T07:16:58.516753Z",
          "start_time": "2024-12-08T07:16:56.880517Z"
        },
        "colab": {
          "base_uri": "https://localhost:8080/"
        },
        "id": "2f2862ab2335dff1",
        "outputId": "705e01db-0d6f-4659-8ea7-04310bc15eb7"
      },
      "cell_type": "code",
      "source": [
        "!pip install pandas nltk random\n"
      ],
      "id": "2f2862ab2335dff1",
      "outputs": [
        {
          "output_type": "stream",
          "name": "stdout",
          "text": [
            "Requirement already satisfied: pandas in /usr/local/lib/python3.11/dist-packages (2.2.2)\n",
            "Requirement already satisfied: nltk in /usr/local/lib/python3.11/dist-packages (3.9.1)\n",
            "\u001b[31mERROR: Could not find a version that satisfies the requirement random (from versions: none)\u001b[0m\u001b[31m\n",
            "\u001b[0m\u001b[31mERROR: No matching distribution found for random\u001b[0m\u001b[31m\n",
            "\u001b[0m"
          ]
        }
      ],
      "execution_count": null
    },
    {
      "metadata": {
        "ExecuteTime": {
          "end_time": "2024-12-08T07:37:52.464340Z",
          "start_time": "2024-12-08T07:37:52.461245Z"
        },
        "id": "23756066b2d28e24"
      },
      "cell_type": "code",
      "source": [
        "import pandas as pd\n",
        "import random\n",
        "import json\n",
        "import nltk"
      ],
      "id": "23756066b2d28e24",
      "outputs": [],
      "execution_count": null
    },
    {
      "cell_type": "code",
      "source": [
        "from google.colab import drive\n",
        "drive.mount('/content/drive')"
      ],
      "metadata": {
        "colab": {
          "base_uri": "https://localhost:8080/"
        },
        "id": "0vcZE_uwbfLd",
        "outputId": "604c8ffc-2c6a-40f2-c6ec-f445a53fe9dd"
      },
      "id": "0vcZE_uwbfLd",
      "execution_count": null,
      "outputs": [
        {
          "output_type": "stream",
          "name": "stdout",
          "text": [
            "Drive already mounted at /content/drive; to attempt to forcibly remount, call drive.mount(\"/content/drive\", force_remount=True).\n"
          ]
        }
      ]
    },
    {
      "cell_type": "code",
      "source": [],
      "metadata": {
        "id": "pT8gJkQ7dDHN"
      },
      "id": "pT8gJkQ7dDHN",
      "execution_count": null,
      "outputs": []
    },
    {
      "cell_type": "code",
      "source": [
        "import json\n",
        "\n",
        "# Đọc file txt\n",
        "with open(\"/content/drive/MyDrive/NLP/data/word_net_vi.json\", \"r\", encoding=\"utf-8\") as f:\n",
        "    lines = f.readlines()\n",
        "\n",
        "# Xử lý dữ liệu: tách các từ đồng nghĩa trên mỗi dòng\n",
        "synonyms_list = []\n",
        "for line in lines:\n",
        "    # Bỏ khoảng trắng dư và tách theo dấu phẩy\n",
        "    words = [word.strip() for word in line.strip().split(\",\") if word.strip()]\n",
        "    if words:\n",
        "        synonyms_list.append(words)\n",
        "\n",
        "# Ghi ra file JSON\n",
        "with open(\"/content/drive/MyDrive/NLP/data/word_net_vi.json\", \"w\", encoding=\"utf-8\") as f:\n",
        "    json.dump(synonyms_list, f, ensure_ascii=False, indent=2)\n",
        "\n",
        "print(\"Đã chuyển đổi thành công sang word_net_vi.json\")\n"
      ],
      "metadata": {
        "id": "lczxBdgudF6N",
        "colab": {
          "base_uri": "https://localhost:8080/"
        },
        "outputId": "83737605-695c-442a-8baf-6fa0893b23fe"
      },
      "execution_count": null,
      "outputs": [
        {
          "output_type": "stream",
          "name": "stdout",
          "text": [
            "Đã chuyển đổi thành công sang word_net_vi.json\n"
          ]
        }
      ],
      "id": "lczxBdgudF6N"
    },
    {
      "metadata": {
        "ExecuteTime": {
          "end_time": "2024-12-08T07:37:53.978140Z",
          "start_time": "2024-12-08T07:37:53.937054Z"
        },
        "colab": {
          "base_uri": "https://localhost:8080/"
        },
        "id": "1f11ec7c944a50be",
        "outputId": "a7d24584-27cf-43b3-c086-d716927fe195"
      },
      "cell_type": "code",
      "source": [
        "\n",
        "# Nạp dữ liệu vào\n",
        "data = pd.read_csv(r\"/content/drive/MyDrive/NLP/data/processed_sentiment_data_no_emojis.csv\")\n",
        "\n",
        "# Cài đặt các phần phụ thuộc của NLTK\n",
        "nltk.download('wordnet')\n",
        "nltk.download('omw-1.4')\n",
        "\n",
        "# Đọc file word_net__vi.json\n",
        "with open(r'/content/drive/MyDrive/NLP/data/word_net_vi.json', 'r', encoding='utf-8') as f:\n",
        "    word_net = json.load(f)\n"
      ],
      "id": "1f11ec7c944a50be",
      "outputs": [
        {
          "output_type": "stream",
          "name": "stderr",
          "text": [
            "[nltk_data] Downloading package wordnet to /root/nltk_data...\n",
            "[nltk_data] Downloading package omw-1.4 to /root/nltk_data...\n"
          ]
        }
      ],
      "execution_count": null
    },
    {
      "cell_type": "code",
      "source": [
        "def check_label_distribution(data):\n",
        "    # Đếm số lượng các nhãn (sentiment)\n",
        "    label_counts = data['sentiment'].value_counts()\n",
        "    print(\"Phân bố nhãn trong dữ liệu:\")\n",
        "    print(label_counts)\n",
        "\n",
        "    return label_counts\n",
        "\n",
        "label_counts = check_label_distribution(data)"
      ],
      "metadata": {
        "colab": {
          "base_uri": "https://localhost:8080/"
        },
        "id": "Phh4s_VQfRzH",
        "outputId": "14d9344c-df43-4d46-abf5-24ffba3300b4"
      },
      "id": "Phh4s_VQfRzH",
      "execution_count": null,
      "outputs": [
        {
          "output_type": "stream",
          "name": "stdout",
          "text": [
            "Phân bố nhãn trong dữ liệu:\n",
            "sentiment\n",
            "Tốt           1610\n",
            "Tệ            1269\n",
            "Trung tính     184\n",
            "Name: count, dtype: int64\n"
          ]
        }
      ]
    },
    {
      "metadata": {
        "collapsed": true,
        "ExecuteTime": {
          "end_time": "2024-12-08T07:37:55.776844Z",
          "start_time": "2024-12-08T07:37:55.771519Z"
        },
        "id": "initial_id"
      },
      "cell_type": "code",
      "source": [
        "\n",
        "# Hàm thêm từ đồng nghĩa vào câu (RI)\n",
        "def random_insertion(text):\n",
        "    words = text.split()\n",
        "\n",
        "    # Chọn ngẫu nhiên một vị trí trong câu\n",
        "    index = random.randint(0, len(words) - 1)\n",
        "\n",
        "    # Lấy từ ở vị trí này\n",
        "    word = words[index]\n",
        "\n",
        "    # Kiểm tra xem từ này có trong word_net không\n",
        "    if word in word_net and word_net[word]:  # Kiểm tra xem từ có đồng nghĩa không\n",
        "        synonym = random.choice(word_net[word])\n",
        "        words.insert(index, synonym)  # Thêm từ đồng nghĩa vào vị trí ngẫu nhiên\n",
        "\n",
        "    return ' '.join(words)\n",
        "\n",
        "# Hàm hoán đổi ngẫu nhiên hai từ trong câu (RS)\n",
        "def random_swap(text):\n",
        "    words = text.split()\n",
        "\n",
        "    # Kiểm tra nếu có ít nhất 2 từ trong câu\n",
        "    if len(words) < 2:\n",
        "        return text  # Trả về câu gốc nếu có ít hơn 2 từ\n",
        "\n",
        "    # Chọn ngẫu nhiên hai từ trong câu\n",
        "    index1, index2 = random.sample(range(len(words)), 2)\n",
        "\n",
        "    # Hoán đổi vị trí của hai từ\n",
        "    words[index1], words[index2] = words[index2], words[index1]\n",
        "\n",
        "    return ' '.join(words)\n",
        "\n",
        "# Hàm tăng cường dữ liệu bằng cả hai kỹ thuật RI và RS\n",
        "def augment_data(text, augmentation_type='both'):\n",
        "    if augmentation_type == 'RI':\n",
        "        return random_insertion(text)\n",
        "    elif augmentation_type == 'RS':\n",
        "        return random_swap(text)\n",
        "    elif augmentation_type == 'both':\n",
        "        return random_swap(random_insertion(text))\n",
        "    else:\n",
        "        return text\n",
        "\n",
        "# Cân bằng dữ liệu cho nhãn \"Trung tính\"\n",
        "def balance_neutral_data(data, target_count):\n",
        "    # Lọc các câu có nhãn 'Trung tính'\n",
        "    neutral_data = data[data['sentiment'] == 'Trung tính']\n",
        "\n",
        "    # Số lượng cần thêm cho nhãn 'Trung tính'\n",
        "    diff = target_count - len(neutral_data)\n",
        "\n",
        "    augmented_data = neutral_data.copy()\n",
        "\n",
        "    for _ in range(diff):\n",
        "        # Chọn ngẫu nhiên một câu và tăng cường nó\n",
        "        row = neutral_data.sample(1)\n",
        "        augmented_text = augment_data(row['comment'].values[0], augmentation_type='both')\n",
        "        augmented_data = pd.concat([augmented_data,\n",
        "                                    pd.DataFrame({ 'comment': [augmented_text],\n",
        "                                                  'sentiment': ['Trung tính']})], ignore_index=True)\n",
        "\n",
        "    return augmented_data\n",
        "\n",
        "\n"
      ],
      "id": "initial_id",
      "outputs": [],
      "execution_count": null
    },
    {
      "metadata": {
        "ExecuteTime": {
          "end_time": "2024-12-08T07:37:58.418255Z",
          "start_time": "2024-12-08T07:37:57.867885Z"
        },
        "colab": {
          "base_uri": "https://localhost:8080/"
        },
        "id": "e95c9b8d2d118b0",
        "outputId": "baee43f9-1487-40c9-dae9-fd2a5118709a"
      },
      "cell_type": "code",
      "source": [
        "# Số lượng mẫu mục tiêu cho nhãn 'Trung tính'\n",
        "target_neutral_count = 1000  # Ví dụ bạn muốn có 1000 câu cho nhãn 'Trung tính'\n",
        "\n",
        "# Cân bằng dữ liệu cho nhãn \"Trung tính\"\n",
        "balanced_neutral_data = balance_neutral_data(data, target_neutral_count)\n",
        "\n",
        "# Thêm lại dữ liệu đã cân bằng vào dữ liệu gốc\n",
        "balanced_data = pd.concat([data[data['sentiment'] != 'Trung tính'], balanced_neutral_data], ignore_index=True)\n",
        "\n",
        "# Hiển thị dữ liệu sau khi cân bằng\n",
        "print(\"Dữ liệu sau khi cân bằng nhãn Trung tính:\")\n",
        "print(balanced_data['sentiment'].value_counts())\n",
        "\n",
        "# Lưu dữ liệu đã cân bằng\n",
        "balanced_data.to_csv(\"/content/drive/MyDrive/NLP/data/balanced_neutral_sentiment_data.csv\", index=False)"
      ],
      "id": "e95c9b8d2d118b0",
      "outputs": [
        {
          "output_type": "stream",
          "name": "stdout",
          "text": [
            "Dữ liệu sau khi cân bằng nhãn Trung tính:\n",
            "sentiment\n",
            "Tốt           1610\n",
            "Tệ            1269\n",
            "Trung tính    1000\n",
            "Name: count, dtype: int64\n"
          ]
        }
      ],
      "execution_count": null
    }
  ],
  "metadata": {
    "kernelspec": {
      "display_name": "Python 3",
      "language": "python",
      "name": "python3"
    },
    "language_info": {
      "codemirror_mode": {
        "name": "ipython",
        "version": 2
      },
      "file_extension": ".py",
      "mimetype": "text/x-python",
      "name": "python",
      "nbconvert_exporter": "python",
      "pygments_lexer": "ipython2",
      "version": "2.7.6"
    },
    "colab": {
      "provenance": []
    }
  },
  "nbformat": 4,
  "nbformat_minor": 5
}